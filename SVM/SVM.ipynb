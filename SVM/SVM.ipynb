{
  "cells": [
    {
      "cell_type": "markdown",
      "metadata": {
        "id": "kSUMvKoK5lZq"
      },
      "source": [
        "<img src=\"./sharif.png\" alt=\"SUT logo\" width=300 height=300 align=left class=\"saturate\">\n",
        "\n",
        "<br>\n",
        "<font>\n",
        "<div dir=ltr align=center>\n",
        "<font color=0F5298 size=7>\n",
        "    Machine Learning <br>\n",
        "<font color=2565AE size=5>\n",
        "    Computer Engineering Department <br>\n",
        "    Spring 2024<br>\n",
        "<font color=3C99D size=5>\n",
        "    Practical Assignment 3<br>\n",
        "<font color=696880 size=4>\n",
        "    Ashkan Majidi - Shayan Salehi - Amirhossein Alamdar\n",
        "\n",
        "____"
      ]
    },
    {
      "cell_type": "markdown",
      "metadata": {
        "id": "lASXYXTq5lZt"
      },
      "source": [
        "# Personal Data"
      ]
    },
    {
      "cell_type": "code",
      "execution_count": null,
      "metadata": {
        "id": "4YRByZsp5lZu"
      },
      "outputs": [],
      "source": [
        "student_number = '99105429'\n",
        "first_name = 'Amirhossein'\n",
        "last_name = 'Khoshbakht'"
      ]
    },
    {
      "cell_type": "code",
      "source": [
        "# Data Preprocessing\n",
        "import numpy as np\n",
        "import pandas as pd\n",
        "from sklearn.model_selection import train_test_split\n",
        "from sklearn.preprocessing import StandardScaler\n",
        "\n",
        "# Load data\n",
        "data = pd.read_csv('satimage.csv')\n",
        "X = data.drop(columns=['label'])\n",
        "y = data['label']\n",
        "\n",
        "# Split data\n",
        "X_train, X_temp, y_train, y_temp = train_test_split(X, y, train_size=0.60, random_state=42)\n",
        "X_val, X_test, y_val, y_test = train_test_split(X_temp, y_temp, train_size=0.375, random_state=42)  # 0.375 * 0.4 = 0.15\n",
        "\n",
        "# Scale data\n",
        "scaler = StandardScaler()\n",
        "X_train = scaler.fit_transform(X_train)\n",
        "X_val = scaler.transform(X_val)\n",
        "X_test = scaler.transform(X_test)\n",
        "\n",
        "# Binary SVM (labels 4 and 6)\n",
        "binary_indices = (y_train == 4) | (y_train == 6)\n",
        "X_train_binary = X_train[binary_indices]\n",
        "y_train_binary = y_train[binary_indices]\n",
        "y_train_binary = y_train_binary.apply(lambda x: 1 if x == 4 else -1)\n",
        "\n",
        "binary_indices_val = (y_val == 4) | (y_val == 6)\n",
        "X_val_binary = X_val[binary_indices_val]\n",
        "y_val_binary = y_val[binary_indices_val]\n",
        "y_val_binary = y_val_binary.apply(lambda x: 1 if x == 4 else -1)\n",
        "\n",
        "binary_indices_test = (y_test == 4) | (y_test == 6)\n",
        "X_test_binary = X_test[binary_indices_test]\n",
        "y_test_binary = y_test[binary_indices_test]\n",
        "y_test_binary = y_test_binary.apply(lambda x: 1 if x == 4 else -1)\n",
        "\n",
        "# Model\n",
        "from cvxopt import matrix, solvers\n",
        "\n",
        "def soft_margin_svm(X, y, C):\n",
        "    n_samples, n_features = X.shape\n",
        "    K = np.dot(X, X.T)\n",
        "    P = matrix(np.outer(y, y) * K)\n",
        "    q = matrix(-np.ones(n_samples))\n",
        "    G = matrix(np.vstack((-np.eye(n_samples), np.eye(n_samples))))\n",
        "    h = matrix(np.hstack((np.zeros(n_samples), np.ones(n_samples) * C)))\n",
        "    A = matrix(y, (1, n_samples), 'd')\n",
        "    b = matrix(0.0)\n",
        "\n",
        "    solvers.options['show_progress'] = True\n",
        "    solution = solvers.qp(P, q, G, h, A, b)\n",
        "    alphas = np.ravel(solution['x'])\n",
        "\n",
        "    support_vector_indices = alphas > 1e-5\n",
        "    support_vectors = X[support_vector_indices]\n",
        "    support_vector_labels = y[support_vector_indices]\n",
        "    support_vector_alphas = alphas[support_vector_indices]\n",
        "\n",
        "    return support_vectors, support_vector_labels, support_vector_alphas\n",
        "\n",
        "C = 1.0\n",
        "support_vectors, support_vector_labels, support_vector_alphas = soft_margin_svm(X_train_binary, y_train_binary.to_numpy(), C)\n",
        "\n",
        "def predict_labels(x_test, support_vectors, support_vector_labels, support_vector_alphas):\n",
        "    y_pred = np.zeros(x_test.shape[0])\n",
        "    for i in range(x_test.shape[0]):\n",
        "        s = 0\n",
        "        for alpha, sv_y, sv in zip(support_vector_alphas, support_vector_labels, support_vectors):\n",
        "            s += alpha * sv_y * np.dot(x_test[i], sv)\n",
        "        y_pred[i] = s\n",
        "    return np.sign(y_pred)\n",
        "\n",
        "y_pred = predict_labels(np.array(X_test_binary), support_vectors, support_vector_labels, support_vector_alphas)\n",
        "\n",
        "# Evaluation\n",
        "from sklearn.metrics import accuracy_score, balanced_accuracy_score, confusion_matrix\n",
        "import seaborn as sns\n",
        "import matplotlib.pyplot as plt\n",
        "\n",
        "def evaluate(y_test, y_pred):\n",
        "    accuracy = accuracy_score(y_test, y_pred)\n",
        "    balanced_accuracy = balanced_accuracy_score(y_test, y_pred)\n",
        "    confusion_mat = confusion_matrix(y_test, y_pred)\n",
        "\n",
        "    print(\"Accuracy: \", accuracy)\n",
        "    print(\"Balanced Accuracy: \", balanced_accuracy)\n",
        "    print(\"Confusion Matrix:\\n\", confusion_mat)\n",
        "    return accuracy, balanced_accuracy, confusion_mat\n",
        "\n",
        "_, _, confusion_mat = evaluate(y_test_binary, y_pred)\n",
        "\n",
        "cm_matrix = pd.DataFrame(data=confusion_mat, columns=['Predict Negative:-1', 'Predict Positive:1'],\n",
        "                         index=['Actual Negative:-1', 'Actual Positive:1'])\n",
        "sns.heatmap(cm_matrix, annot=True, fmt='d', cmap='mako')\n",
        "plt.show()\n",
        "\n",
        "# Fine-tuning\n",
        "def rbf(x1, x2, gamma=1):\n",
        "    return np.exp(-gamma * np.linalg.norm(x1 - x2)**2)\n",
        "\n",
        "def soft_margin_svm_rbf(X, y, C, gamma=1):\n",
        "    n_samples, n_features = X.shape\n",
        "    K = np.zeros((n_samples, n_samples))\n",
        "    for i in range(n_samples):\n",
        "        for j in range(n_samples):\n",
        "            K[i, j] = rbf(X[i], X[j], gamma)\n",
        "    P = matrix(np.outer(y, y) * K)\n",
        "    q = matrix(-np.ones(n_samples))\n",
        "    G = matrix(np.vstack((-np.eye(n_samples), np.eye(n_samples))))\n",
        "    h = matrix(np.hstack((np.zeros(n_samples), np.ones(n_samples) * C)))\n",
        "    A = matrix(y, (1, n_samples), 'd')\n",
        "    b = matrix(0.0)\n",
        "\n",
        "    solution = solvers.qp(P, q, G, h, A, b)\n",
        "    alphas = np.ravel(solution['x'])\n",
        "\n",
        "    support_vector_indices = alphas > 1e-5\n",
        "    support_vectors = X[support_vector_indices]\n",
        "    support_vector_labels = y[support_vector_indices]\n",
        "    support_vector_alphas = alphas[support_vector_indices]\n",
        "\n",
        "    return support_vectors, support_vector_labels, support_vector_alphas\n",
        "\n",
        "gammas = [0.001, 0.01, 1, 10, 100]\n",
        "best_gamma = None\n",
        "best_support_vectors = None\n",
        "best_support_vector_labels = None\n",
        "best_support_vector_alphas = None\n",
        "best_balanced_accuracy = 0\n",
        "\n",
        "for gamma in gammas:\n",
        "    support_vectors, support_vector_labels, support_vector_alphas = soft_margin_svm_rbf(X_train_binary, y_train_binary.to_numpy(), C, gamma)\n",
        "    y_pred_val = predict_labels(np.array(X_val_binary), support_vectors, support_vector_labels, support_vector_alphas)\n",
        "    _, balanced_accuracy, _ = evaluate(y_val_binary, y_pred_val)\n",
        "    if balanced_accuracy > best_balanced_accuracy:\n",
        "        best_balanced_accuracy = balanced_accuracy\n",
        "        best_gamma = gamma\n",
        "        best_support_vectors = support_vectors\n",
        "        best_support_vector_labels = support_vector_labels\n",
        "        best_support_vector_alphas = support_vector_alphas\n",
        "\n",
        "print(best_gamma)\n",
        "\n",
        "y_pred = predict_labels(np.array(X_test_binary), best_support_vectors, best_support_vector_labels, best_support_vector_alphas)\n",
        "_, _, confusion_mat = evaluate(y_test_binary, y_pred)\n",
        "cm_matrix = pd.DataFrame(data=confusion_mat, columns=['Predict Negative:-1', 'Predict Positive:1'],\n",
        "                         index=['Actual Negative:-1', 'Actual Positive:1'])\n",
        "sns.heatmap(cm_matrix, annot=True, fmt='d', cmap='mako')\n",
        "plt.show()\n",
        "\n",
        "# Multiclass SVM\n",
        "from sklearn.svm import SVC\n",
        "from sklearn.model_selection import GridSearchCV\n",
        "\n",
        "Cs = [0.01, 0.1, 1, 10, 100]\n",
        "gammas = [0.01, 0.1, 1, 10, 100]\n",
        "\n",
        "param_grid = {'C': Cs, 'gamma': gammas}\n",
        "svc = SVC(kernel='rbf')\n",
        "grid_search = GridSearchCV(svc, param_grid, scoring='balanced_accuracy', cv=5)\n",
        "grid_search.fit(X_train, y_train)\n",
        "\n",
        "best_params = grid_search.best_params_\n",
        "best_svc = grid_search.best_estimator_\n",
        "\n",
        "y_pred = best_svc.predict(X_test)\n",
        "_, _, confusion_mat = evaluate(y_test, y_pred)\n",
        "sns.heatmap(confusion_mat, annot=True, fmt='d', cmap='mako')\n",
        "plt.show()\n"
      ],
      "metadata": {
        "colab": {
          "base_uri": "https://localhost:8080/",
          "height": 3111
        },
        "id": "10AZvZC55mR0",
        "outputId": "595724ce-6784-4b55-aa2a-0b9797bf1847"
      },
      "execution_count": 3,
      "outputs": [
        {
          "output_type": "stream",
          "name": "stdout",
          "text": [
            "     pcost       dcost       gap    pres   dres\n",
            " 0: -6.1265e+02 -3.3971e+03  2e+04  3e+00  2e-13\n",
            " 1: -4.1824e+02 -2.2816e+03  3e+03  3e-01  2e-13\n",
            " 2: -3.9732e+02 -7.6474e+02  4e+02  3e-02  1e-13\n",
            " 3: -4.4111e+02 -5.8227e+02  2e+02  9e-03  1e-13\n",
            " 4: -4.6125e+02 -5.3708e+02  8e+01  4e-03  1e-13\n",
            " 5: -4.7293e+02 -5.1305e+02  4e+01  2e-03  1e-13\n",
            " 6: -4.7763e+02 -5.0407e+02  3e+01  1e-03  1e-13\n",
            " 7: -4.8272e+02 -4.9477e+02  1e+01  4e-04  1e-13\n",
            " 8: -4.8534e+02 -4.9054e+02  5e+00  2e-04  1e-13\n",
            " 9: -4.8671e+02 -4.8840e+02  2e+00  4e-05  1e-13\n",
            "10: -4.8718e+02 -4.8773e+02  6e-01  7e-06  1e-13\n",
            "11: -4.8738e+02 -4.8747e+02  9e-02  4e-07  1e-13\n",
            "12: -4.8742e+02 -4.8743e+02  7e-03  3e-08  1e-13\n",
            "13: -4.8742e+02 -4.8742e+02  2e-04  6e-10  2e-13\n",
            "Optimal solution found.\n",
            "Accuracy:  0.8252788104089219\n",
            "Balanced Accuracy:  0.7639855133496167\n",
            "Confusion Matrix:\n",
            " [[348  35]\n",
            " [ 59  96]]\n"
          ]
        },
        {
          "output_type": "display_data",
          "data": {
            "text/plain": [
              "<Figure size 640x480 with 2 Axes>"
            ],
            "image/png": "[encoded data removed]"
          },
          "metadata": {}
        },
        {
          "output_type": "stream",
          "name": "stdout",
          "text": [
            "     pcost       dcost       gap    pres   dres\n",
            " 0: -6.6231e+02 -3.1520e+03  1e+04  3e+00  2e-14\n",
            " 1: -4.4592e+02 -2.0464e+03  2e+03  9e-02  2e-14\n",
            " 2: -5.0504e+02 -7.6884e+02  3e+02  1e-02  2e-14\n",
            " 3: -5.7545e+02 -6.4494e+02  7e+01  2e-03  2e-14\n",
            " 4: -5.9360e+02 -6.2011e+02  3e+01  7e-04  2e-14\n",
            " 5: -6.0005e+02 -6.1118e+02  1e+01  2e-04  2e-14\n",
            " 6: -6.0344e+02 -6.0671e+02  3e+00  5e-05  2e-14\n",
            " 7: -6.0474e+02 -6.0510e+02  4e-01  4e-06  2e-14\n",
            " 8: -6.0489e+02 -6.0492e+02  3e-02  2e-07  2e-14\n",
            " 9: -6.0491e+02 -6.0491e+02  9e-04  7e-09  2e-14\n",
            "10: -6.0491e+02 -6.0491e+02  1e-05  1e-10  2e-14\n",
            "Optimal solution found.\n",
            "Accuracy:  0.7727272727272727\n",
            "Balanced Accuracy:  0.6913291354663036\n",
            "Confusion Matrix:\n",
            " [[206  20]\n",
            " [ 55  49]]\n",
            "     pcost       dcost       gap    pres   dres\n",
            " 0: -5.7870e+02 -3.1897e+03  2e+04  3e+00  2e-14\n",
            " 1: -4.0863e+02 -2.0634e+03  2e+03  2e-01  1e-14\n",
            " 2: -4.2109e+02 -6.8997e+02  3e+02  2e-02  1e-14\n",
            " 3: -4.6476e+02 -5.9584e+02  1e+02  8e-03  1e-14\n",
            " 4: -4.8769e+02 -5.5091e+02  7e+01  3e-03  1e-14\n",
            " 5: -4.9596e+02 -5.3660e+02  4e+01  2e-03  1e-14\n",
            " 6: -5.0371e+02 -5.2370e+02  2e+01  8e-04  1e-14\n",
            " 7: -5.0860e+02 -5.1604e+02  8e+00  2e-04  2e-14\n",
            " 8: -5.1083e+02 -5.1270e+02  2e+00  4e-05  2e-14\n",
            " 9: -5.1160e+02 -5.1168e+02  8e-02  4e-07  2e-14\n",
            "10: -5.1164e+02 -5.1164e+02  6e-03  1e-08  2e-14\n",
            "11: -5.1164e+02 -5.1164e+02  3e-04  6e-10  2e-14\n",
            "Optimal solution found.\n",
            "Accuracy:  0.7575757575757576\n",
            "Balanced Accuracy:  0.620575221238938\n",
            "Confusion Matrix:\n",
            " [[224   2]\n",
            " [ 78  26]]\n",
            "     pcost       dcost       gap    pres   dres\n",
            " 0: -2.4269e+02 -2.1635e+03  7e+03  2e+00  1e-15\n",
            " 1: -2.2042e+02 -1.1878e+03  1e+03  1e-01  6e-16\n",
            " 2: -2.4012e+02 -3.8481e+02  2e+02  1e-02  8e-16\n",
            " 3: -2.5620e+02 -2.8744e+02  3e+01  2e-03  5e-16\n",
            " 4: -2.6083e+02 -2.6656e+02  6e+00  2e-04  4e-16\n",
            " 5: -2.6182e+02 -2.6335e+02  2e+00  4e-05  4e-16\n",
            " 6: -2.6212e+02 -2.6241e+02  3e-01  4e-06  4e-16\n",
            " 7: -2.6218e+02 -2.6221e+02  3e-02  3e-07  4e-16\n",
            " 8: -2.6219e+02 -2.6219e+02  1e-03  9e-09  4e-16\n",
            " 9: -2.6219e+02 -2.6219e+02  3e-05  2e-10  4e-16\n",
            "Optimal solution found.\n",
            "Accuracy:  0.7696969696969697\n",
            "Balanced Accuracy:  0.6813308373042886\n",
            "Confusion Matrix:\n",
            " [[208  18]\n",
            " [ 58  46]]\n",
            "     pcost       dcost       gap    pres   dres\n",
            " 0: -4.6315e+02 -2.1251e+03  2e+03  1e-13  6e-16\n",
            " 1: -4.6963e+02 -5.0646e+02  4e+01  5e-14  4e-16\n",
            " 2: -4.7538e+02 -4.7581e+02  4e-01  1e-14  2e-16\n",
            " 3: -4.7545e+02 -4.7546e+02  4e-03  2e-15  1e-16\n",
            " 4: -4.7546e+02 -4.7546e+02  4e-05  2e-15  1e-16\n",
            "Optimal solution found.\n",
            "Accuracy:  0.7757575757575758\n",
            "Balanced Accuracy:  0.6987321307011573\n",
            "Confusion Matrix:\n",
            " [[205  21]\n",
            " [ 53  51]]\n",
            "     pcost       dcost       gap    pres   dres\n",
            " 0: -4.6331e+02 -2.1253e+03  2e+03  9e-13  3e-16\n",
            " 1: -4.6978e+02 -5.0577e+02  4e+01  6e-14  4e-16\n",
            " 2: -4.7552e+02 -4.7591e+02  4e-01  1e-14  8e-17\n",
            " 3: -4.7559e+02 -4.7559e+02  4e-03  7e-15  5e-17\n",
            " 4: -4.7559e+02 -4.7559e+02  4e-05  4e-14  2e-17\n",
            "Optimal solution found.\n",
            "Accuracy:  0.7757575757575758\n",
            "Balanced Accuracy:  0.6987321307011573\n",
            "Confusion Matrix:\n",
            " [[205  21]\n",
            " [ 53  51]]\n",
            "10\n",
            "Accuracy:  0.8085501858736059\n",
            "Balanced Accuracy:  0.7426345489766697\n",
            "Confusion Matrix:\n",
            " [[344  39]\n",
            " [ 64  91]]\n"
          ]
        },
        {
          "output_type": "display_data",
          "data": {
            "text/plain": [
              "<Figure size 640x480 with 2 Axes>"
            ],
            "image/png": "[encoded data removed]"
          },
          "metadata": {}
        },
        {
          "output_type": "stream",
          "name": "stdout",
          "text": [
            "Accuracy:  0.9092604101926662\n",
            "Balanced Accuracy:  0.8880046622293033\n",
            "Confusion Matrix:\n",
            " [[352   0   1   0   2   0]\n",
            " [  0 183   1   0   3   2]\n",
            " [  3   0 322  12   0   5]\n",
            " [  3   4  31  94   3  20]\n",
            " [  1   1   1   1 173   8]\n",
            " [  0   0   8  31   5 339]]\n"
          ]
        },
        {
          "output_type": "display_data",
          "data": {
            "text/plain": [
              "<Figure size 640x480 with 2 Axes>"
            ],
            "image/png": "[encoded data removed]"
          },
          "metadata": {}
        }
      ]
    },
    {
      "cell_type": "markdown",
      "metadata": {
        "id": "BZp5Xrhl5lZv"
      },
      "source": [
        "# Introduction\n",
        "\n",
        "In this assignment, you will implement SVM (Support Vector Machines) for classification.\n"
      ]
    },
    {
      "cell_type": "markdown",
      "metadata": {
        "id": "u5NxGpCP5lZv"
      },
      "source": [
        "# Data Prepfocessing"
      ]
    },
    {
      "cell_type": "markdown",
      "metadata": {
        "id": "at2yu4ST5lZv"
      },
      "source": [
        "Import your needed libraries in following cell."
      ]
    },
    {
      "cell_type": "code",
      "execution_count": null,
      "metadata": {
        "id": "64y5egqE5lZw"
      },
      "outputs": [],
      "source": [
        "# TODO: Write your code here"
      ]
    },
    {
      "cell_type": "markdown",
      "metadata": {
        "id": "JQq121gH5lZw"
      },
      "source": [
        "Load data from ```satimage``` dataset and split data to features and labels. The ```label``` column is our target variable."
      ]
    },
    {
      "cell_type": "code",
      "execution_count": null,
      "metadata": {
        "id": "12VbDWsk5lZw"
      },
      "outputs": [],
      "source": [
        "# TODO: Write your code here"
      ]
    },
    {
      "cell_type": "markdown",
      "metadata": {
        "id": "83e9Wulu5lZw"
      },
      "source": [
        "Now split data to train, validation and test parts. 60% of data should be used for train, 15% for validation and 25% for test. After that scale the data to Standard Normal Distribution using ```StandardScaler``` class from ```scikit-learn``` library."
      ]
    },
    {
      "cell_type": "code",
      "execution_count": null,
      "metadata": {
        "id": "AF1pwDSY5lZw"
      },
      "outputs": [],
      "source": [
        "# TODO: Write your code here"
      ]
    },
    {
      "cell_type": "markdown",
      "metadata": {
        "id": "KasKl80E5lZw"
      },
      "source": [
        "We want to train Binary SVM model for classification between labels 4 and 6. Choose corresponding datas and convert their lables to 1 and -1 respectively for 4 and 6."
      ]
    },
    {
      "cell_type": "code",
      "execution_count": null,
      "metadata": {
        "id": "e_mR1OFQ5lZx"
      },
      "outputs": [],
      "source": [
        "# TODO: Write your code here"
      ]
    },
    {
      "cell_type": "markdown",
      "metadata": {
        "id": "cc9jqPPE5lZx"
      },
      "source": [
        "# Model (50 points)"
      ]
    },
    {
      "cell_type": "markdown",
      "metadata": {
        "id": "QdoWIxG65lZx"
      },
      "source": [
        "Here is soft margin svm convex optimization formulation.\n",
        "$$\n",
        "\\begin{aligned}\n",
        "\\text { Minimize } & \\frac{1}{2}\\|\\mathbf{w}\\|^2+C \\sum_{i=1}^N \\xi_i \\\\\n",
        "\\text { Subject to } & y_i\\left(\\mathbf{w}^T \\mathbf{x}_i+b\\right) \\geq 1-\\xi_i, \\quad i=1,2, \\ldots, N \\\\\n",
        "& \\xi_i \\geq 0, \\quad i=1,2, \\ldots, N\n",
        "\\end{aligned}\n",
        "$$\n",
        "write dual of the soft margin svm optimization problem below:"
      ]
    },
    {
      "cell_type": "markdown",
      "metadata": {
        "id": "T5GgoOtv5lZx"
      },
      "source": [
        "`TODO: Write Here`"
      ]
    },
    {
      "cell_type": "markdown",
      "metadata": {
        "id": "owFvGasp5lZy"
      },
      "source": [
        "Now you should write this optimization problem in standard Quadratic Program (QP) form and use a QP solver to find optimal answer. Here is General form of a QP:\n",
        "$$\n",
        "\\begin{aligned}\n",
        "\\text { Minimize } & \\frac{1}{2} x^TPx + q^Tx + r \\\\\n",
        "\\text { Subject to } & Gx \\leq h \\\\\n",
        "& Ax = b\n",
        "\\end{aligned}\n",
        "$$\n",
        "\n",
        "Complete functions below and use ```cvxopt``` library which is a common library for solving QPs. Note that you can't use ```scikit-learn``` library.\n"
      ]
    },
    {
      "cell_type": "code",
      "execution_count": null,
      "metadata": {
        "id": "hZ_vPUH65lZy"
      },
      "outputs": [],
      "source": [
        "def soft_margin_svm(X, y, C):\n",
        "    \"\"\"\n",
        "    input:\n",
        "        X: training data\n",
        "        y: training labels\n",
        "        C: errors weight\n",
        "    output:\n",
        "        support_vectros: data points which are SVs of our model.\n",
        "        support_vector_labels: labels of SVs\n",
        "        support_vector_alphas: alpha coefficient of corresponding SVs\n",
        "    \"\"\"\n",
        "\n",
        "    # TODO: Write your code here\n",
        "\n",
        "    support_vectors = None\n",
        "    support_vector_labels = None\n",
        "    support_vector_alphas = None\n",
        "\n",
        "    return support_vectors, support_vector_labels, support_vector_alphas"
      ]
    },
    {
      "cell_type": "code",
      "execution_count": null,
      "metadata": {
        "id": "m6umighL5lZy",
        "outputId": "8e3cc1bc-4576-461f-be26-87d1c5cc4602"
      },
      "outputs": [
        {
          "name": "stdout",
          "output_type": "stream",
          "text": [
            "     pcost       dcost       gap    pres   dres\n",
            " 0: -6.1265e+02 -3.3971e+03  2e+04  3e+00  2e-13\n",
            " 1: -4.1824e+02 -2.2816e+03  3e+03  3e-01  1e-13\n",
            " 2: -3.9732e+02 -7.6474e+02  4e+02  3e-02  8e-14\n",
            " 3: -4.4111e+02 -5.8227e+02  2e+02  9e-03  7e-14\n",
            " 4: -4.6125e+02 -5.3708e+02  8e+01  4e-03  7e-14\n",
            " 5: -4.7293e+02 -5.1305e+02  4e+01  2e-03  7e-14\n",
            " 6: -4.7763e+02 -5.0407e+02  3e+01  1e-03  6e-14\n",
            " 7: -4.8272e+02 -4.9477e+02  1e+01  4e-04  7e-14\n",
            " 8: -4.8534e+02 -4.9054e+02  5e+00  2e-04  7e-14\n",
            " 9: -4.8671e+02 -4.8840e+02  2e+00  4e-05  7e-14\n",
            "10: -4.8718e+02 -4.8773e+02  6e-01  7e-06  8e-14\n",
            "11: -4.8738e+02 -4.8747e+02  9e-02  4e-07  8e-14\n",
            "12: -4.8742e+02 -4.8743e+02  7e-03  3e-08  8e-14\n",
            "13: -4.8742e+02 -4.8742e+02  2e-04  6e-10  8e-14\n",
            "Optimal solution found.\n"
          ]
        }
      ],
      "source": [
        "C = 1.0\n",
        "support_vectors, support_vector_labels, support_vector_alphas = soft_margin_svm(x_train, y_train, C)"
      ]
    },
    {
      "cell_type": "code",
      "execution_count": null,
      "metadata": {
        "id": "6JZIHyR05lZy"
      },
      "outputs": [],
      "source": [
        "def predict_labels(x_test, support_vectors, support_vector_labels, support_vector_alphas):\n",
        "    \"\"\"\n",
        "    input:\n",
        "        x_test: test data\n",
        "        support_vectros: data points which are SVs of our model.\n",
        "        support_vector_labels: labels of SVs\n",
        "        support_vector_alphas: alpha coefficient of corresponding SVs\n",
        "    output:\n",
        "        y_pred: predictoin labels\n",
        "    \"\"\"\n",
        "\n",
        "    # TODO: Write your code here\n",
        "\n",
        "    y_pred = None\n",
        "    return y_pred"
      ]
    },
    {
      "cell_type": "code",
      "execution_count": null,
      "metadata": {
        "id": "Jzjo3Yyi5lZz"
      },
      "outputs": [],
      "source": [
        "y_pred = predict_labels(np.array(x_test), support_vectors, support_vector_labels, support_vector_alphas)"
      ]
    },
    {
      "cell_type": "markdown",
      "metadata": {
        "id": "cEwlDIgm5lZz"
      },
      "source": [
        "# Evaluation (20 points)"
      ]
    },
    {
      "cell_type": "markdown",
      "metadata": {
        "id": "VosY-PYX5lZz"
      },
      "source": [
        "Compute accuracy, balanced accuracy and plot confusion matrix of your trained model using ```Seaborn.heatmap()``` function. Use case of balanced accuracy is when dealing with imbalanced data, i.e. when one of the target classes appears a lot more than the other and it is defined by average of recall of classes. Confusion matrix is a $k\\times k$ (k is number of classes) matrix which cell ij is showing that number of data points labeld i which predicted j. For more detail of evaluation metrics you can see [here](https://neptune.ai/blog/balanced-accuracy).\n",
        "\n",
        "You may use ```scikit-learn``` library to compute these metrics."
      ]
    },
    {
      "cell_type": "code",
      "execution_count": null,
      "metadata": {
        "id": "US0_-DxG5lZz",
        "outputId": "2e57341b-e4fa-4fdd-886b-36d50813f296"
      },
      "outputs": [
        {
          "name": "stdout",
          "output_type": "stream",
          "text": [
            "Accuracy:  0.8024357239512855\n",
            "Balanced Accuracy:  0.7372659691629956\n",
            "Confusion Matrix:\n",
            " [[129  98]\n",
            " [ 48 464]]\n"
          ]
        }
      ],
      "source": [
        "def evaluate(y_test, y_pred):\n",
        "    \"\"\"\n",
        "    input:\n",
        "        y_test: true labels\n",
        "        y_pred: predicted labels\n",
        "    output:\n",
        "        accuracy: accuracy of the model\n",
        "        balanced_accuracy: balanced accuracy of the model\n",
        "        confusion_matrix: confusion matrix of the model\n",
        "    \"\"\"\n",
        "    # TODO: Write your code here\n",
        "\n",
        "    accuracy = None\n",
        "    balanced_accuracy = None\n",
        "    confusion_mat = None\n",
        "\n",
        "    print(\"Accuracy: \", accuracy)\n",
        "    print(\"Balanced Accuracy: \", balanced_accuracy)\n",
        "    print(\"Confusion Matrix:\\n\", confusion_mat)\n",
        "    return accuracy, balanced_accuracy, confusion_mat\n",
        "\n",
        "\n",
        "_, _, confusion_mat = evaluate(y_test, y_pred)"
      ]
    },
    {
      "cell_type": "code",
      "execution_count": null,
      "metadata": {
        "id": "KaCTDoWR5lZz",
        "outputId": "a25a5f56-87df-42ea-d186-9f71769b457b"
      },
      "outputs": [
        {
          "data": {
            "text/plain": [
              "<Axes: >"
            ]
          },
          "execution_count": 11,
          "metadata": {},
          "output_type": "execute_result"
        },
        {
          "data": {
            "image/png": "[encoded data removed]",
            "text/plain": [
              "<Figure size 640x480 with 2 Axes>"
            ]
          },
          "metadata": {},
          "output_type": "display_data"
        }
      ],
      "source": [
        "cm_matrix = pd.DataFrame(data=confusion_mat, columns=['Predict Negative:-1', 'Predict Positive:1'],\n",
        "                                 index=['Actual Negative:-1', 'Actual Positive:1'])\n",
        "\n",
        "sns.heatmap(cm_matrix, annot=True, fmt='d', cmap='mako')"
      ]
    },
    {
      "cell_type": "markdown",
      "metadata": {
        "id": "wxulRLxR5lZz"
      },
      "source": [
        "# Fine-tunning (40 points)"
      ]
    },
    {
      "cell_type": "markdown",
      "metadata": {
        "id": "9t-5jeWU5lZz"
      },
      "source": [
        "like what you did before, implement Soft Margin SVM but now use rbf kernel. To determine rbf $\\gamma$ parameter use validation datas and find best(best by balanced accuracy) $\\gamma$ between 0.001 , 0.01, 1, 10, 100. Not that you can't use ```scikit-learn``` library here."
      ]
    },
    {
      "cell_type": "code",
      "execution_count": null,
      "metadata": {
        "id": "x71knmjr5lZz"
      },
      "outputs": [],
      "source": [
        "def rbf(x1, x2, gamma=1):\n",
        "    \"\"\"\n",
        "    input:\n",
        "        x1: first vector\n",
        "        x2: second vector\n",
        "        gamma: rbf kernel parameter with defalt value 1.\n",
        "    output:\n",
        "        ouput: computed rbf of two input vectors\n",
        "    \"\"\"\n",
        "    # TODO: Write your code here\n",
        "    output = None\n",
        "    return output\n",
        "\n",
        "def soft_margin_svm(X, y, C, gamma=1):\n",
        "    \"\"\"\n",
        "    input:\n",
        "        X: training data\n",
        "        y: training labels\n",
        "        C: errors weight\n",
        "        gamma: rbf kernel parameter with defalt value 1.\n",
        "    output:\n",
        "        support_vectros: data points which are SVs of our model.\n",
        "        support_vector_labels: labels of SVs\n",
        "        support_vector_alphas: alpha coefficient of corresponding SVs\n",
        "    \"\"\"\n",
        "\n",
        "    # TODO: Write your code here\n",
        "\n",
        "    support_vectors = None\n",
        "    support_vector_labels = None\n",
        "    support_vector_alphas = None\n",
        "\n",
        "    return support_vectors, support_vector_labels, support_vector_alphas"
      ]
    },
    {
      "cell_type": "code",
      "execution_count": null,
      "metadata": {
        "id": "gHekC5MS5lZ0",
        "outputId": "eb54c573-b5ff-4937-cf85-b50f324ab739"
      },
      "outputs": [
        {
          "name": "stdout",
          "output_type": "stream",
          "text": [
            "gamma =  0.1\n"
          ]
        },
        {
          "name": "stdout",
          "output_type": "stream",
          "text": [
            "     pcost       dcost       gap    pres   dres\n",
            " 0: -4.6331e+02 -2.1253e+03  2e+03  2e-12  6e-16\n",
            " 1: -4.6978e+02 -5.0577e+02  4e+01  6e-14  1e-16\n",
            " 2: -4.7552e+02 -4.7591e+02  4e-01  8e-15  8e-17\n",
            " 3: -4.7559e+02 -4.7559e+02  4e-03  5e-14  8e-17\n",
            " 4: -4.7559e+02 -4.7559e+02  4e-05  6e-14  1e-16\n",
            "Optimal solution found.\n",
            "gamma =  0.1\n",
            "     pcost       dcost       gap    pres   dres\n",
            " 0: -4.6331e+02 -2.1253e+03  2e+03  2e-12  6e-16\n",
            " 1: -4.6978e+02 -5.0577e+02  4e+01  6e-14  1e-16\n",
            " 2: -4.7552e+02 -4.7591e+02  4e-01  8e-15  8e-17\n",
            " 3: -4.7559e+02 -4.7559e+02  4e-03  5e-14  8e-17\n",
            " 4: -4.7559e+02 -4.7559e+02  4e-05  6e-14  1e-16\n",
            "Optimal solution found.\n",
            "gamma =  1\n",
            "     pcost       dcost       gap    pres   dres\n",
            " 0: -2.2807e+02 -2.3860e+03  1e+04  2e+00  1e-15\n",
            " 1: -1.9511e+02 -1.3394e+03  1e+03  1e-01  6e-16\n",
            " 2: -2.1236e+02 -4.1488e+02  2e+02  2e-02  8e-16\n",
            " 3: -2.3269e+02 -2.8889e+02  6e+01  3e-03  6e-16\n",
            " 4: -2.4128e+02 -2.5379e+02  1e+01  2e-04  5e-16\n",
            " 5: -2.4336e+02 -2.4664e+02  3e+00  2e-05  5e-16\n",
            " 6: -2.4396e+02 -2.4482e+02  9e-01  2e-06  5e-16\n",
            " 7: -2.4412e+02 -2.4439e+02  3e-01  7e-15  5e-16\n",
            " 8: -2.4419e+02 -2.4423e+02  4e-02  4e-15  5e-16\n",
            " 9: -2.4420e+02 -2.4420e+02  9e-04  7e-16  5e-16\n",
            "10: -2.4420e+02 -2.4420e+02  1e-05  8e-15  5e-16\n",
            "Optimal solution found.\n",
            "gamma =  10\n",
            "     pcost       dcost       gap    pres   dres\n",
            " 0: -6.2048e+02 -3.2025e+03  2e+04  3e+00  2e-14\n",
            " 1: -4.3213e+02 -2.0926e+03  2e+03  2e-01  9e-15\n",
            " 2: -4.5019e+02 -7.0525e+02  3e+02  2e-02  6e-15\n",
            " 3: -5.0506e+02 -6.0737e+02  1e+02  6e-03  7e-15\n",
            " 4: -5.2409e+02 -5.7948e+02  6e+01  3e-03  7e-15\n",
            " 5: -5.3432e+02 -5.6427e+02  3e+01  1e-03  7e-15\n",
            " 6: -5.3954e+02 -5.5681e+02  2e+01  7e-04  7e-15\n",
            " 7: -5.4297e+02 -5.5209e+02  9e+00  3e-04  7e-15\n",
            " 8: -5.4610e+02 -5.4792e+02  2e+00  4e-05  8e-15\n",
            " 9: -5.4679e+02 -5.4705e+02  3e-01  4e-06  8e-15\n",
            "10: -5.4690e+02 -5.4692e+02  1e-02  2e-07  8e-15\n",
            "11: -5.4691e+02 -5.4691e+02  3e-04  3e-09  8e-15\n",
            "Optimal solution found.\n",
            "gamma =  100\n",
            "     pcost       dcost       gap    pres   dres\n",
            " 0: -8.4606e+02 -3.0015e+03  1e+04  2e+00  2e-14\n",
            " 1: -6.2477e+02 -1.9350e+03  1e+03  1e-14  1e-14\n",
            " 2: -6.6964e+02 -8.4354e+02  2e+02  2e-14  9e-15\n",
            " 3: -7.0632e+02 -7.3538e+02  3e+01  8e-15  1e-14\n",
            " 4: -7.1791e+02 -7.2310e+02  5e+00  9e-15  1e-14\n",
            " 5: -7.2038e+02 -7.2131e+02  9e-01  4e-15  1e-14\n",
            " 6: -7.2075e+02 -7.2100e+02  2e-01  1e-14  1e-14\n",
            " 7: -7.2087e+02 -7.2090e+02  2e-02  2e-14  1e-14\n",
            " 8: -7.2089e+02 -7.2089e+02  5e-04  2e-14  1e-14\n",
            "Optimal solution found.\n"
          ]
        }
      ],
      "source": [
        "gammas = [00.1, 0.1, 1, 10, 100]\n",
        "best_gamma = None\n",
        "best_support_vectors = None\n",
        "best_support_vector_labels = None\n",
        "best_support_vector_alphas = None\n",
        "\n",
        "# TODO: Write your code here\n",
        "\n",
        "print(best_gamma)"
      ]
    },
    {
      "cell_type": "code",
      "execution_count": null,
      "metadata": {
        "id": "Js3MKCc05lZ0",
        "outputId": "f448323d-bf2b-4e0f-cc29-607a91b60ede"
      },
      "outputs": [
        {
          "name": "stdout",
          "output_type": "stream",
          "text": [
            "     pcost       dcost       gap    pres   dres\n",
            " 0: -2.2807e+02 -2.3860e+03  1e+04  2e+00  1e-15\n",
            " 1: -1.9511e+02 -1.3394e+03  1e+03  1e-01  6e-16\n",
            " 2: -2.1236e+02 -4.1488e+02  2e+02  2e-02  8e-16\n",
            " 3: -2.3269e+02 -2.8889e+02  6e+01  3e-03  6e-16\n",
            " 4: -2.4128e+02 -2.5379e+02  1e+01  2e-04  5e-16\n",
            " 5: -2.4336e+02 -2.4664e+02  3e+00  2e-05  5e-16\n",
            " 6: -2.4396e+02 -2.4482e+02  9e-01  2e-06  5e-16\n",
            " 7: -2.4412e+02 -2.4439e+02  3e-01  7e-15  5e-16\n",
            " 8: -2.4419e+02 -2.4423e+02  4e-02  4e-15  5e-16\n",
            " 9: -2.4420e+02 -2.4420e+02  9e-04  7e-16  5e-16\n",
            "10: -2.4420e+02 -2.4420e+02  1e-05  8e-15  5e-16\n",
            "Optimal solution found.\n",
            "Accuracy:  0.7753721244925575\n",
            "Balanced Accuracy:  0.677274056993392\n",
            "Confusion Matrix:\n",
            " [[ 96 131]\n",
            " [ 35 477]]\n"
          ]
        }
      ],
      "source": [
        "y_pred = predict_labels(np.array(x_test), best_support_vectors, best_support_vector_labels, best_support_vector_alphas)\n",
        "_, _, confusion_mat = evaluate(y_test, y_pred)"
      ]
    },
    {
      "cell_type": "markdown",
      "metadata": {
        "id": "Dg7Q6ZJq5lZ0"
      },
      "source": [
        "# Multiclass SVM (30 points + 50 points optional)"
      ]
    },
    {
      "cell_type": "markdown",
      "metadata": {
        "id": "UeYCLU4g5lZ0"
      },
      "source": [
        "Now we want implement Multiclass SVM. Use ```SVC``` function with rbf kernel from ```scikit-learn``` package on all train datas (all six classes) and choose best hyperparameters for $C$ and $\\gamma$ between 0.01, 0.1, 1, 10, 100. After that evaluate it with your function.\n",
        "\n",
        "Note that in this example we had enough data to split them in train and validation but in case that we don't have enough data, ```scikit-learn``` has a built-in fast library named ```GridSearchCV()``` which can help us in hyperparameter tunning with cross validation."
      ]
    },
    {
      "cell_type": "code",
      "execution_count": null,
      "metadata": {
        "id": "PFzQW3SU5lZ0"
      },
      "outputs": [],
      "source": [
        "Cs = [0.01, 0.1, 1, 10, 100]\n",
        "gammas = [0.01, 0.1, 1, 10, 100]\n",
        "# TODO: Write your code here"
      ]
    },
    {
      "cell_type": "markdown",
      "metadata": {
        "id": "UB4UwlKW5lZ0"
      },
      "source": [
        "Implement Multiclass SVM from scratch without using ready functions (optional)."
      ]
    },
    {
      "cell_type": "code",
      "execution_count": null,
      "metadata": {
        "id": "tv85i39b5lZ0"
      },
      "outputs": [],
      "source": [
        "# TODO: Write your code here"
      ]
    },
    {
      "cell_type": "markdown",
      "metadata": {
        "id": "0fSs4xI65lZ0"
      },
      "source": [
        "# Different SVM Kernels (40 points)"
      ]
    },
    {
      "cell_type": "markdown",
      "metadata": {
        "id": "lkNoo_7n5lZ0"
      },
      "source": [
        "A kernel in SVM is like a tool that helps solve tricky problems. It lets us work in a space with many dimensions, making complex calculations easier. With kernels, we can deal with lots of dimensions, even an endless amount. Kernels are crucial for sorting data into groups and help spot patterns in the data we're looking at. They're especially good at tackling twisty problems with a straightforward approach.\n",
        "\n",
        "Sometimes, finding a straight line or flat surface to divide data isn't possible, especially as we explore more dimensions. That's where different types of SVM kernels come in handy. They transform twisty, complicated data into a simpler form that's easier to separate. In this explanation, we talk about 4 popular types of these kernels. Also in following cells you can use any package.\n",
        "\n",
        "<img src=\"./kernel.jpg\" alt=\"Types of Kernel Functions\"  align=center class=\"saturate\">"
      ]
    },
    {
      "cell_type": "markdown",
      "metadata": {
        "id": "azyYSxlm5lZ0"
      },
      "source": [
        "### Linear Kernel"
      ]
    },
    {
      "cell_type": "markdown",
      "metadata": {
        "id": "YktqUy4t5lZ1"
      },
      "source": [
        "This is the simplest kind of kernel, typically working in one dimension. It works best when dealing with a lot of features. Linear kernels are quicker than other types.\n",
        "\n",
        "**Formula:**\n",
        "\n",
        "$$F(x, x_j) = sum(x, x_j)$$\n",
        "\n",
        "Now Implement svc classifier using a linear kernel. Get the prediction and evaluate it by function which you implemented before. Also plot confusion matrix by `Seaborn`."
      ]
    },
    {
      "cell_type": "code",
      "execution_count": null,
      "metadata": {
        "id": "S_xRrIvN5lZ1",
        "outputId": "1908ca9a-aa48-4b5d-d3db-7549982cde0c"
      },
      "outputs": [
        {
          "name": "stdout",
          "output_type": "stream",
          "text": [
            "Accuracy:  0.8673982624599909\n",
            "Balanced Accuracy:  0.8296118784587972\n",
            "Confusion Matrix:\n",
            " [[498   0   3   0   3   0]\n",
            " [  0 228   1   0  17   0]\n",
            " [  7   0 435  17   0   1]\n",
            " [  3   1  52 102   5  64]\n",
            " [  9   9   0   2 191  27]\n",
            " [  0   0  10  45  14 443]]\n"
          ]
        }
      ],
      "source": [
        "# TODO: Write your code here"
      ]
    },
    {
      "cell_type": "markdown",
      "metadata": {
        "id": "JwE1ykZj5lZ1"
      },
      "source": [
        "### Gaussian RBF kernel"
      ]
    },
    {
      "cell_type": "markdown",
      "metadata": {
        "id": "SnW78Guo5lZ1"
      },
      "source": [
        "This kernel is a favorite choice in SVM, especially for data that doesn't line up straight. It's great for sorting data when you don't know much about it beforehand.\n",
        "\n",
        "**Formula:**\n",
        "\n",
        "$$F(x, x_j) = \\exp{(-\\gamma ||x - xj||^2)}$$\n",
        "\n",
        "Now, configure the SVC classifier with a sigmoid kernel. Get the prediction and evaluate it by function which you implemented before. Also plot confusion matrix as previous part."
      ]
    },
    {
      "cell_type": "code",
      "execution_count": null,
      "metadata": {
        "id": "BucGq5RO5lZ1",
        "outputId": "06a4a192-8302-4175-fbc5-670d27c5657f"
      },
      "outputs": [
        {
          "name": "stdout",
          "output_type": "stream",
          "text": [
            "Accuracy:  0.8920896204846822\n",
            "Balanced Accuracy:  0.8670985916367675\n",
            "Confusion Matrix:\n",
            " [[498   1   4   0   1   0]\n",
            " [  0 240   0   1   4   1]\n",
            " [  4   0 441   9   0   6]\n",
            " [  3   2  55 127   3  37]\n",
            " [  6   2   1   2 205  22]\n",
            " [  0   1  13  47  11 440]]\n"
          ]
        }
      ],
      "source": [
        "# TODO: Write your code here"
      ]
    },
    {
      "cell_type": "markdown",
      "metadata": {
        "id": "EXZ176wm5lZ1"
      },
      "source": [
        "### Polynomial Kernel"
      ]
    },
    {
      "cell_type": "markdown",
      "metadata": {
        "id": "Ecxry4Gh5lZ1"
      },
      "source": [
        "This is a broader version of the linear kernel. It's not as popular because it's not as quick or precise.\n",
        "\n",
        "**Formula:**\n",
        "\n",
        "$$F(x, x_j) = (x.x_j+1)^d$$\n",
        "\n",
        "Now, set up the SVC classifier using a *polynomial* kernel. Get the prediction and evaluate it by function which you implemented before. Also plot confusion matrix as previous parts."
      ]
    },
    {
      "cell_type": "code",
      "execution_count": null,
      "metadata": {
        "id": "OrvmKrbu5lZ1",
        "outputId": "dbe01215-4191-4b6f-b18e-ca444086cc9a"
      },
      "outputs": [
        {
          "name": "stdout",
          "output_type": "stream",
          "text": [
            "Accuracy:  0.8920896204846822\n",
            "Balanced Accuracy:  0.8670985916367675\n",
            "Confusion Matrix:\n",
            " [[498   1   4   0   1   0]\n",
            " [  0 240   0   1   4   1]\n",
            " [  4   0 441   9   0   6]\n",
            " [  3   2  55 127   3  37]\n",
            " [  6   2   1   2 205  22]\n",
            " [  0   1  13  47  11 440]]\n"
          ]
        }
      ],
      "source": [
        "# TODO: Write your code here"
      ]
    },
    {
      "cell_type": "markdown",
      "metadata": {
        "id": "rmHDjTP45lZ2"
      },
      "source": [
        "### Sigmoid Kernel"
      ]
    },
    {
      "cell_type": "markdown",
      "metadata": {
        "id": "g_tT52495lZ2"
      },
      "source": [
        "This is mainly chosen for use with neural networks. The kernel function acts like the activation function in a two-layer perceptron neural network model, helping to activate the neurons.\n",
        "\n",
        "**Formula:**\n",
        "\n",
        "$$F(x, x_j) = \\tanh(α x a y + c)$$\n",
        "\n",
        "Now, configure the SVC classifier with a sigmoid kernel. Get the prediction and evaluate it by function which you implemented before. Also plot confusion matrix as previous parts."
      ]
    },
    {
      "cell_type": "code",
      "execution_count": null,
      "metadata": {
        "id": "akNaaU085lZ2",
        "outputId": "8fb0bc4f-0af2-4476-ddc9-b26aad1d65a2"
      },
      "outputs": [
        {
          "name": "stdout",
          "output_type": "stream",
          "text": [
            "Accuracy:  0.7192501143118427\n",
            "Balanced Accuracy:  0.6737052742237154\n",
            "Confusion Matrix:\n",
            " [[418   7  26   0  53   0]\n",
            " [ 30 210   0   1   5   0]\n",
            " [  4   0 416  38   1   1]\n",
            " [  4   2  61  61  19  80]\n",
            " [ 26  42   6  35 121   8]\n",
            " [  0   1  12  82  70 347]]\n"
          ]
        }
      ],
      "source": [
        "# TODO: Write your code here"
      ]
    },
    {
      "cell_type": "markdown",
      "metadata": {
        "id": "QBxDCgcV5lZ2"
      },
      "source": [
        "Compare these four kernel functions with each other. What are the main advantages and disadvantages of each one?"
      ]
    },
    {
      "cell_type": "markdown",
      "metadata": {
        "id": "cdGpCeOV5lZ2"
      },
      "source": [
        "`TODO: Write Here`"
      ]
    }
  ],
  "metadata": {
    "kernelspec": {
      "display_name": "Python 3",
      "language": "python",
      "name": "python3"
    },
    "language_info": {
      "codemirror_mode": {
        "name": "ipython",
        "version": 3
      },
      "file_extension": ".py",
      "mimetype": "text/x-python",
      "name": "python",
      "nbconvert_exporter": "python",
      "pygments_lexer": "ipython3",
      "version": "3.11.2"
    },
    "colab": {
      "provenance": []
    }
  },
  "nbformat": 4,
  "nbformat_minor": 0
}